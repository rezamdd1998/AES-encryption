{
 "cells": [
  {
   "cell_type": "markdown",
   "metadata": {
    "id": "g7D2iXZbnMf9"
   },
   "source": [
    "# **Imports**"
   ]
  },
  {
   "cell_type": "code",
   "execution_count": 59,
   "metadata": {
    "ExecuteTime": {
     "end_time": "2023-01-20T12:51:29.874919Z",
     "start_time": "2023-01-20T12:51:29.857922Z"
    },
    "id": "bo9auPomz70-"
   },
   "outputs": [],
   "source": [
    "from math import log2,ceil\n",
    "import numpy as np"
   ]
  },
  {
   "cell_type": "markdown",
   "metadata": {
    "id": "7VLq2uQTvY_K"
   },
   "source": [
    "# **Some functions**"
   ]
  },
  {
   "cell_type": "markdown",
   "metadata": {
    "id": "S6nedGA7hMA1"
   },
   "source": [
    "**text-to-hex**"
   ]
  },
  {
   "cell_type": "code",
   "execution_count": 60,
   "metadata": {
    "ExecuteTime": {
     "end_time": "2023-01-20T12:51:29.937967Z",
     "start_time": "2023-01-20T12:51:29.918020Z"
    },
    "id": "-TQlsaGzWq7E"
   },
   "outputs": [],
   "source": [
    "def t2h(input):\n",
    "    orders = [ord(char)-ord('a')  if char != '#' else 26 for char in [char for char in input.lower()] ]\n",
    "    return ''.join([f'0{hex(num)[2:]}' if num <= 15 else f'{hex(num)[2:]}' for num in orders])"
   ]
  },
  {
   "cell_type": "markdown",
   "metadata": {
    "id": "AiI2Ea-5hDoo"
   },
   "source": [
    "**hex-to-text**"
   ]
  },
  {
   "cell_type": "code",
   "execution_count": 61,
   "metadata": {
    "ExecuteTime": {
     "end_time": "2023-01-20T12:51:29.952927Z",
     "start_time": "2023-01-20T12:51:29.944948Z"
    },
    "id": "guCmI76ySVFc"
   },
   "outputs": [],
   "source": [
    "def h2t(text):\n",
    "    letters = [text[i]+text[i+1] for i in range(0,len(text),2)]\n",
    "    letters = [int(l,16) for l in letters]\n",
    "    for i,l in enumerate(letters):\n",
    "        letters[i] = chr(ord('a')+l) if l != 26 else '#'\n",
    "    return ''.join(letters)\n"
   ]
  },
  {
   "cell_type": "markdown",
   "metadata": {
    "id": "O_T6XNNQhcoI"
   },
   "source": [
    "**hex-to-binary**"
   ]
  },
  {
   "cell_type": "code",
   "execution_count": 62,
   "metadata": {
    "ExecuteTime": {
     "end_time": "2023-01-20T12:51:29.983844Z",
     "start_time": "2023-01-20T12:51:29.973871Z"
    },
    "id": "5AwRkS0PZhkl"
   },
   "outputs": [],
   "source": [
    "def h2b(text):\n",
    "    return ''.join(['0'*int(4-ceil(log2(int(ch,16))+0.001))+bin(int(ch,16))[2:] if ch != '0' else '0000' for ch in text])\n",
    "    "
   ]
  },
  {
   "cell_type": "code",
   "execution_count": 63,
   "metadata": {
    "ExecuteTime": {
     "end_time": "2023-01-20T12:51:29.999249Z",
     "start_time": "2023-01-20T12:51:29.988831Z"
    }
   },
   "outputs": [],
   "source": [
    "# l = []\n",
    "# for ch in text:\n",
    "#     if ch == '0':\n",
    "#         l.append('0000')\n",
    "#     else:\n",
    "#         s = '0'*int(4-ceil(log2(int(ch,16))+0.001)) + bin(int(ch,16))[2:]\n",
    "#         l.append(s)\n",
    "# h2b('ab5')"
   ]
  },
  {
   "cell_type": "markdown",
   "metadata": {
    "id": "TwJcQyWFhlOs"
   },
   "source": [
    "**binary-to-hex**"
   ]
  },
  {
   "cell_type": "code",
   "execution_count": 64,
   "metadata": {
    "ExecuteTime": {
     "end_time": "2023-01-20T12:51:30.047081Z",
     "start_time": "2023-01-20T12:51:30.040101Z"
    },
    "id": "6ft_MH-XWRC6"
   },
   "outputs": [],
   "source": [
    "def b2h(binary):\n",
    "    bits = [binary[i]+binary[i+1]+binary[i+2]+binary[i+3] for i in range(0,len(binary),4)]\n",
    "    return ''.join([f'{hex(int(num,2))[2:]}' for num in bits])"
   ]
  },
  {
   "cell_type": "markdown",
   "metadata": {
    "id": "g_IkTyeQhrj4"
   },
   "source": [
    "**calculating Hamming distance to compare between plain text and cipher text**"
   ]
  },
  {
   "cell_type": "code",
   "execution_count": 65,
   "metadata": {
    "ExecuteTime": {
     "end_time": "2023-01-20T12:51:30.110946Z",
     "start_time": "2023-01-20T12:51:30.088970Z"
    },
    "id": "JCUoGFxh5n9U"
   },
   "outputs": [],
   "source": [
    "def hamming_distance(binary_text1,binary_text2):\n",
    "    return sum([int(a)^int(b) for a,b in zip(binary_text1,binary_text2)])"
   ]
  },
  {
   "cell_type": "markdown",
   "metadata": {
    "id": "1wMpMKLdh7NZ"
   },
   "source": [
    "**indexing the primitive factors for multiplication in Galois field**"
   ]
  },
  {
   "cell_type": "code",
   "execution_count": 66,
   "metadata": {
    "ExecuteTime": {
     "end_time": "2023-01-20T12:51:30.141827Z",
     "start_time": "2023-01-20T12:51:30.124875Z"
    },
    "id": "jrvHZUpC7AOk"
   },
   "outputs": [],
   "source": [
    "def get_indices(hex_text):\n",
    "    return [7-i for i,bit in enumerate(h2b(hex_text)) if int(bit)]"
   ]
  },
  {
   "cell_type": "markdown",
   "metadata": {
    "id": "3SgVusRgi3e5"
   },
   "source": [
    "**convert indices to binary form**"
   ]
  },
  {
   "cell_type": "code",
   "execution_count": 67,
   "metadata": {
    "ExecuteTime": {
     "end_time": "2023-01-20T12:51:30.172744Z",
     "start_time": "2023-01-20T12:51:30.154795Z"
    },
    "id": "Nc1PITAB-QwC"
   },
   "outputs": [],
   "source": [
    "def indices2binary(indices):\n",
    "    return ''.join(['1' if i in indices else '0' for i in range(7,-1,-1)])"
   ]
  },
  {
   "cell_type": "markdown",
   "metadata": {
    "id": "LeJR3EeBjV72"
   },
   "source": [
    "**segment the text into pieces of 128 characters**"
   ]
  },
  {
   "cell_type": "code",
   "execution_count": 68,
   "metadata": {
    "ExecuteTime": {
     "end_time": "2023-01-20T12:51:30.204660Z",
     "start_time": "2023-01-20T12:51:30.183729Z"
    },
    "id": "tLeu9eoQ5Vvw"
   },
   "outputs": [],
   "source": [
    "def text_segmentation(text):\n",
    "    corpus = [text[i:i+16] for i in range(0,len(text),16)]\n",
    "    tail = corpus[-1]\n",
    "    corpus[-1] += '#'*(16-len(corpus[-1]))\n",
    "\n",
    "    print(corpus)\n",
    "    return corpus"
   ]
  },
  {
   "cell_type": "markdown",
   "metadata": {
    "id": "ypWwJNkLvU2v"
   },
   "source": [
    "**matrix structure**"
   ]
  },
  {
   "cell_type": "code",
   "execution_count": 69,
   "metadata": {
    "ExecuteTime": {
     "end_time": "2023-01-20T12:51:30.236576Z",
     "start_time": "2023-01-20T12:51:30.214634Z"
    },
    "id": "pz2-c_mwwA8d"
   },
   "outputs": [],
   "source": [
    "def text_matrix(text):\n",
    "    text = [text[i:i+2] for i in range(0,len(text),2)]\n",
    "    matrix = np.transpose(np.reshape(np.array(text),(4,4)))\n",
    "    return matrix"
   ]
  },
  {
   "cell_type": "markdown",
   "metadata": {
    "id": "D0rzMTu5kYxQ"
   },
   "source": [
    "**XOR of 2 hex number**"
   ]
  },
  {
   "cell_type": "code",
   "execution_count": 70,
   "metadata": {
    "ExecuteTime": {
     "end_time": "2023-01-20T12:51:30.284449Z",
     "start_time": "2023-01-20T12:51:30.275471Z"
    },
    "id": "5sog_PL5_wCO"
   },
   "outputs": [],
   "source": [
    "def xor_hex(first,second):\n",
    "    return b2h(\n",
    "            ''.join(\n",
    "                [''.join(\n",
    "                    [\n",
    "                        str(int(a)^int(b)) for a,b in zip(h2b(f_values),h2b(s_values))]) \n",
    "                         for f_values,s_values in zip(first,second)]\n",
    "                    )\n",
    "            )"
   ]
  },
  {
   "cell_type": "markdown",
   "metadata": {
    "id": "QscFMfMpke-B"
   },
   "source": [
    "**add round key step**"
   ]
  },
  {
   "cell_type": "code",
   "execution_count": 71,
   "metadata": {
    "ExecuteTime": {
     "end_time": "2023-01-20T12:51:30.332317Z",
     "start_time": "2023-01-20T12:51:30.316361Z"
    },
    "id": "rKwHkf7DnirT"
   },
   "outputs": [],
   "source": [
    "def add_round_key(text,key):\n",
    "    for i in range(4):\n",
    "        for j in range(4):\n",
    "            text[i,j] = xor_hex(text[i,j],key[i,j])\n",
    "    return text"
   ]
  },
  {
   "cell_type": "markdown",
   "metadata": {
    "id": "Vvm6AjWDkrIC"
   },
   "source": [
    "**subbyte transform step**"
   ]
  },
  {
   "cell_type": "code",
   "execution_count": 72,
   "metadata": {
    "ExecuteTime": {
     "end_time": "2023-01-20T12:51:30.364232Z",
     "start_time": "2023-01-20T12:51:30.346296Z"
    },
    "id": "WmVrp8jay-fJ"
   },
   "outputs": [],
   "source": [
    "def sub_byte_transform(text):\n",
    "    for i in range(4):\n",
    "        for j in range(4):\n",
    "            row,col = text[i,j]\n",
    "            text[i,j] = s_box[int(row,16),int(col,16)]\n",
    "    return text"
   ]
  },
  {
   "cell_type": "markdown",
   "metadata": {
    "id": "KIykjtXbkwSg"
   },
   "source": [
    "**shift rows step**"
   ]
  },
  {
   "cell_type": "code",
   "execution_count": 73,
   "metadata": {
    "ExecuteTime": {
     "end_time": "2023-01-20T12:51:30.380191Z",
     "start_time": "2023-01-20T12:51:30.373209Z"
    },
    "id": "fj14dfkW4E_5"
   },
   "outputs": [],
   "source": [
    "def shift_rows(text):\n",
    "    text = np.ndarray.tolist(text)\n",
    "    for i in range(4):\n",
    "        for j in range(i):\n",
    "            text[i].append(text[i].pop(0))\n",
    "    return np.array(text)"
   ]
  },
  {
   "cell_type": "markdown",
   "metadata": {
    "id": "9lQHRT5blRpx"
   },
   "source": [
    "**mixed columns step**"
   ]
  },
  {
   "cell_type": "code",
   "execution_count": 75,
   "metadata": {
    "ExecuteTime": {
     "end_time": "2023-01-20T12:51:30.472291Z",
     "start_time": "2023-01-20T12:51:30.460267Z"
    },
    "id": "90rRkrpu5F5J"
   },
   "outputs": [],
   "source": [
    "def mixed_columns(text):\n",
    "    for j in range(4):\n",
    "        col = text[:,j]\n",
    "        new_col = []\n",
    "        for r in range(4):\n",
    "            row = constant_matrix[r,:]\n",
    "            products = [product_galois_field(col[i],row[i]) for i in range(4)]\n",
    "            result = '00'\n",
    "            for p in products:\n",
    "                result = xor_hex(result,p)\n",
    "            new_col.append(result)\n",
    "        text[:,j] = np.array(new_col)\n",
    "    return text"
   ]
  },
  {
   "cell_type": "markdown",
   "metadata": {
    "id": "1DhPTsrGk2hi"
   },
   "source": [
    "**Galois field multiplication for mixed column step**"
   ]
  },
  {
   "cell_type": "code",
   "execution_count": 74,
   "metadata": {
    "ExecuteTime": {
     "end_time": "2023-01-20T12:51:30.427079Z",
     "start_time": "2023-01-20T12:51:30.403130Z"
    },
    "id": "4JP4CHJY5dPu"
   },
   "outputs": [],
   "source": [
    "def product_galois_field(a,b):\n",
    "    a = get_indices(a)\n",
    "    b = get_indices(b)\n",
    "    if len(a) == 0 or len(b) == 0:\n",
    "        return '00'\n",
    "    product_indices = []\n",
    "\n",
    "    for a_index in a:\n",
    "        for b_index in b:\n",
    "            if a_index + b_index in product_indices:\n",
    "                product_indices.remove(a_index + b_index)\n",
    "            else:\n",
    "                product_indices.append(a_index + b_index)\n",
    "    product_indices.sort(reverse=True)\n",
    "    coefs = [8,4,3,1,0]\n",
    "    while product_indices[0] >= 8:\n",
    "        greatest = product_indices[0]\n",
    "        index = greatest - 8\n",
    "        for idx in coefs:\n",
    "            if idx + index in product_indices:\n",
    "                product_indices.remove(idx + index)\n",
    "            else:\n",
    "                product_indices.append(idx + index)\n",
    "        product_indices.sort(reverse=True)\n",
    "\n",
    "    return b2h(indices2binary(product_indices))"
   ]
  },
  {
   "cell_type": "markdown",
   "metadata": {
    "id": "39WBQhHdlXvd"
   },
   "source": [
    "**Encryption round**"
   ]
  },
  {
   "cell_type": "code",
   "execution_count": 76,
   "metadata": {
    "ExecuteTime": {
     "end_time": "2023-01-20T12:51:30.518420Z",
     "start_time": "2023-01-20T12:51:30.504246Z"
    },
    "id": "75J3awf84Cp0"
   },
   "outputs": [],
   "source": [
    "def encrypt_round(text,key,final=False):\n",
    "    text = sub_byte_transform(text)\n",
    "    text = shift_rows(text)\n",
    "    if not final:\n",
    "        text = mixed_columns(text)\n",
    "    text = add_round_key(text,key)\n",
    "    return text"
   ]
  },
  {
   "cell_type": "markdown",
   "metadata": {
    "id": "V2fHQrprmJdj"
   },
   "source": [
    "**calculating t_i in key expansion**"
   ]
  },
  {
   "cell_type": "code",
   "execution_count": 77,
   "metadata": {
    "ExecuteTime": {
     "end_time": "2023-01-20T12:51:30.565149Z",
     "start_time": "2023-01-20T12:51:30.543787Z"
    },
    "id": "25VFBtpLHVq_"
   },
   "outputs": [],
   "source": [
    "def key_changer(col,round):\n",
    "    col = np.ndarray.tolist(col)\n",
    "    col.append(col.pop(0))\n",
    "    for i,item in enumerate(col):\n",
    "        r,c = item\n",
    "        col[i] = s_box[int(r,16),int(c,16)]\n",
    "    const = [Rconstant[round-1][i:i+2] for i in range(0,len(Rconstant[i-1]),2)]\n",
    "    for i,item in enumerate(col):\n",
    "        col[i] = xor_hex(item,const[i])\n",
    "    return np.array(col)"
   ]
  },
  {
   "cell_type": "markdown",
   "metadata": {
    "id": "QiJBQbHlE-Bl"
   },
   "source": [
    "**return the matrix based on the columns to the output.**"
   ]
  },
  {
   "cell_type": "code",
   "execution_count": 78,
   "metadata": {
    "ExecuteTime": {
     "end_time": "2023-01-20T12:51:30.595670Z",
     "start_time": "2023-01-20T12:51:30.574591Z"
    },
    "id": "lSz46Ef4QW50"
   },
   "outputs": [],
   "source": [
    "def columnwise(matrix):\n",
    "    matrix = matrix.transpose()\n",
    "    matrix = np.reshape(matrix,16)\n",
    "    matrix = np.ndarray.tolist(matrix)\n",
    "    return ''.join(matrix)"
   ]
  },
  {
   "cell_type": "markdown",
   "metadata": {
    "id": "nOQFxrPSiDy9"
   },
   "source": [
    "**key expansion**"
   ]
  },
  {
   "cell_type": "code",
   "execution_count": 79,
   "metadata": {
    "ExecuteTime": {
     "end_time": "2023-01-20T12:51:30.658520Z",
     "start_time": "2023-01-20T12:51:30.619591Z"
    },
    "id": "qvCneEhrGHH1"
   },
   "outputs": [],
   "source": [
    "def key_expansion(key):\n",
    "    subkey = []\n",
    "    key = text_matrix(key)\n",
    "    subkey.append(key.copy())\n",
    "    \n",
    "    for round in range(1,11):\n",
    "        last_col = key[:,3]\n",
    "        last_col = key_changer(last_col,round)\n",
    "        for i in range(4):\n",
    "            key[i,0] = xor_hex(last_col[i],key[i,0])\n",
    "        for j in range(1,4):\n",
    "            for i in range(4):\n",
    "                key[i,j] = xor_hex(key[i,j],key[i,j-1])\n",
    "        subkey.append(key.copy())\n",
    "\n",
    "    return subkey"
   ]
  },
  {
   "cell_type": "markdown",
   "metadata": {
    "id": "vC6B09TOlmtg"
   },
   "source": [
    "**Encryption**"
   ]
  },
  {
   "cell_type": "code",
   "execution_count": 80,
   "metadata": {
    "ExecuteTime": {
     "end_time": "2023-01-20T12:51:30.704998Z",
     "start_time": "2023-01-20T12:51:30.690811Z"
    },
    "id": "eabgR5z_MptU"
   },
   "outputs": [],
   "source": [
    "def encryption(text,key):\n",
    "    text = text_matrix(t2h(text))\n",
    "    keys = key_expansion(t2h(key))\n",
    "    text = add_round_key(text,keys[0])\n",
    "    for i in range(1,11):\n",
    "        if i == 10:\n",
    "            text = encrypt_round(text,keys[i],final=True)\n",
    "        else:\n",
    "            text = encrypt_round(text,keys[i])\n",
    "    return text"
   ]
  },
  {
   "cell_type": "markdown",
   "metadata": {
    "id": "Jxl8Jc9hm4u5"
   },
   "source": [
    "# **Define constants**"
   ]
  },
  {
   "cell_type": "code",
   "execution_count": 102,
   "metadata": {
    "ExecuteTime": {
     "end_time": "2023-01-20T13:06:21.984395Z",
     "start_time": "2023-01-20T13:06:21.972390Z"
    },
    "id": "EeoQ0YXanHZr"
   },
   "outputs": [],
   "source": [
    "plain_text = 'cryptography#project#example#one#saaghi'\n",
    "original_key = 'this#is#the#key#'"
   ]
  },
  {
   "cell_type": "code",
   "execution_count": 103,
   "metadata": {
    "ExecuteTime": {
     "end_time": "2023-01-20T13:06:23.477048Z",
     "start_time": "2023-01-20T13:06:23.466775Z"
    },
    "id": "F9WTM_0g23Ag"
   },
   "outputs": [],
   "source": [
    "s_box = '637c777bf26b6fc53001672bfed7ab76ca82c97dfa5947f0add4a2af9ca472c0b7fd9326363ff7cc34a5e5f171d8311504c723c31896059a071280e2eb27b27509832c1a1b6e5aa0523bd6b329e32f8453d100ed20fcb15b6acbbe394a4c58cfd0efaafb434d338545f9027f503c9fa851a3408f929d38f5bcb6da2110fff3d2cd0c13ec5f974417c4a77e3d645d197360814fdc222a908846eeb814de5e0bdbe0323a0a4906245cc2d3ac629195e479e7c8376d8dd54ea96c56f4ea657aae08ba78252e1ca6b4c6e8dd741f4bbd8b8a703eb5664803f60e613557b986c11d9ee1f8981169d98e949b1e87e9ce5528df8ca1890dbfe6426841992d0fb054bb16'\n",
    "s_box = np.reshape(np.array([s_box[i:i+2] for i in range(0,len(s_box),2)]),(16,16))"
   ]
  },
  {
   "cell_type": "code",
   "execution_count": 104,
   "metadata": {
    "ExecuteTime": {
     "end_time": "2023-01-20T13:06:23.693978Z",
     "start_time": "2023-01-20T13:06:23.680016Z"
    },
    "colab": {
     "base_uri": "https://localhost:8080/"
    },
    "id": "tEY1ISGh2vm4",
    "outputId": "e97d1d20-1e1d-479e-ffee-2818e988f439"
   },
   "outputs": [
    {
     "name": "stdout",
     "output_type": "stream",
     "text": [
      "[['02' '03' '01' '01']\n",
      " ['01' '02' '03' '01']\n",
      " ['01' '01' '02' '03']\n",
      " ['03' '01' '01' '02']]\n"
     ]
    }
   ],
   "source": [
    "constant_matrix = '02030101010203010101020303010102'\n",
    "constant_matrix = np.reshape(np.array([constant_matrix[i:i+2] for i in range(0,len(constant_matrix),2)]),(4,4))\n",
    "print(constant_matrix)"
   ]
  },
  {
   "cell_type": "code",
   "execution_count": 105,
   "metadata": {
    "ExecuteTime": {
     "end_time": "2023-01-20T13:06:23.851204Z",
     "start_time": "2023-01-20T13:06:23.844218Z"
    },
    "colab": {
     "base_uri": "https://localhost:8080/"
    },
    "id": "FPJkZyJNIaYY",
    "outputId": "d086b630-9579-4144-ccc6-a94cf92f78e2"
   },
   "outputs": [
    {
     "name": "stdout",
     "output_type": "stream",
     "text": [
      "['01000000' '02000000' '04000000' '08000000' '10000000' '20000000'\n",
      " '40000000' '80000000' '1b000000' '36000000']\n"
     ]
    }
   ],
   "source": [
    "Rconstant = '01000000020000000400000008000000100000002000000040000000800000001b00000036000000'\n",
    "Rconstant = np.array([Rconstant[i:i+8] for i in range(0,len(Rconstant),8)])\n",
    "print(Rconstant)"
   ]
  },
  {
   "cell_type": "markdown",
   "metadata": {
    "id": "kOmmw3g6msYW"
   },
   "source": [
    "# **Some Example from functions that implemented in previous section**"
   ]
  },
  {
   "cell_type": "markdown",
   "metadata": {
    "id": "JDZ7PNHJn4PU"
   },
   "source": [
    "**Primitive indexing**"
   ]
  },
  {
   "cell_type": "code",
   "execution_count": 106,
   "metadata": {
    "ExecuteTime": {
     "end_time": "2023-01-20T13:06:25.375579Z",
     "start_time": "2023-01-20T13:06:25.363610Z"
    },
    "colab": {
     "base_uri": "https://localhost:8080/"
    },
    "id": "ofNey0Na8OUt",
    "outputId": "d2945a0e-2a12-4737-bf08-37d07e11b23c"
   },
   "outputs": [
    {
     "name": "stdout",
     "output_type": "stream",
     "text": [
      "[7, 1, 0]\n",
      "10000011\n"
     ]
    }
   ],
   "source": [
    "pows = get_indices('83')\n",
    "print(pows)\n",
    "print(indices2binary(pows))"
   ]
  },
  {
   "cell_type": "markdown",
   "metadata": {
    "id": "-VRup8LcjGuP"
   },
   "source": [
    "**Hamming distance**"
   ]
  },
  {
   "cell_type": "code",
   "execution_count": 107,
   "metadata": {
    "ExecuteTime": {
     "end_time": "2023-01-20T13:06:28.853174Z",
     "start_time": "2023-01-20T13:06:28.844368Z"
    },
    "colab": {
     "base_uri": "https://localhost:8080/"
    },
    "id": "r018FTVn54iF",
    "outputId": "aaf737bd-1afa-4045-9a33-f1c3f0842be7"
   },
   "outputs": [
    {
     "name": "stdout",
     "output_type": "stream",
     "text": [
      "0001000000010110\n",
      "0000110000010011\n",
      "5\n"
     ]
    }
   ],
   "source": [
    "t1 = h2b(t2h('qw'))\n",
    "t2 = h2b(t2h('mt'))\n",
    "print(t1)\n",
    "print(t2)\n",
    "print(hamming_distance(t1,t2))\n"
   ]
  },
  {
   "cell_type": "markdown",
   "metadata": {
    "id": "ocA_9ejWoqxY"
   },
   "source": [
    "**converting**"
   ]
  },
  {
   "cell_type": "code",
   "execution_count": 108,
   "metadata": {
    "ExecuteTime": {
     "end_time": "2023-01-20T13:06:30.175048Z",
     "start_time": "2023-01-20T13:06:30.165076Z"
    },
    "id": "Hs8tn1L2qxMZ"
   },
   "outputs": [],
   "source": [
    "hex_text = t2h(plain_text)\n",
    "binary_text = h2b(hex_text)"
   ]
  },
  {
   "cell_type": "code",
   "execution_count": 109,
   "metadata": {
    "ExecuteTime": {
     "end_time": "2023-01-20T13:06:31.194493Z",
     "start_time": "2023-01-20T13:06:31.177501Z"
    },
    "colab": {
     "base_uri": "https://localhost:8080/"
    },
    "id": "OJQgKvK9sEKk",
    "outputId": "5d6dc30c-4045-4d47-e368-e0e9b9b97f1d"
   },
   "outputs": [
    {
     "name": "stdout",
     "output_type": "stream",
     "text": [
      "cryptography#project#example#one#saaghi\n",
      "0211180f130e0611000f07181a0f110e090402131a0417000c0f0b041a0e0d041a120000060708\n",
      "000000100001000100011000000011110001001100001110000001100001000100000000000011110000011100011000000110100000111100010001000011100000100100000100000000100001001100011010000001000001011100000000000011000000111100001011000001000001101000001110000011010000010000011010000100100000000000000000000001100000011100001000\n",
      "0211180f130e0611000f07181a0f110e090402131a0417000c0f0b041a0e0d041a120000060708\n",
      "cryptography#project#example#one#saaghi\n"
     ]
    }
   ],
   "source": [
    "print(plain_text)\n",
    "print(hex_text)\n",
    "print(binary_text)\n",
    "print(b2h(binary_text))\n",
    "print(h2t(b2h(binary_text)))"
   ]
  },
  {
   "cell_type": "markdown",
   "metadata": {
    "id": "jLdytARSoyQj"
   },
   "source": [
    "**segmentation**"
   ]
  },
  {
   "cell_type": "code",
   "execution_count": 110,
   "metadata": {
    "ExecuteTime": {
     "end_time": "2023-01-20T13:06:32.772619Z",
     "start_time": "2023-01-20T13:06:32.752676Z"
    },
    "colab": {
     "base_uri": "https://localhost:8080/"
    },
    "id": "hxkwngC2nfAd",
    "outputId": "184ca590-3e03-4b8c-a171-aa11288aa932"
   },
   "outputs": [
    {
     "name": "stdout",
     "output_type": "stream",
     "text": [
      "['cryptography#pro', 'ject#example#one', '#saaghi#########']\n",
      "128\n",
      "128\n",
      "128\n"
     ]
    }
   ],
   "source": [
    "segments = text_segmentation(plain_text)\n",
    "for s in segments:\n",
    "    print(len(h2b(t2h(s))))"
   ]
  },
  {
   "cell_type": "markdown",
   "metadata": {
    "id": "BYc1RW3Uo1tw"
   },
   "source": [
    "**create main matrix**"
   ]
  },
  {
   "cell_type": "code",
   "execution_count": 90,
   "metadata": {
    "ExecuteTime": {
     "end_time": "2023-01-20T12:51:31.189034Z",
     "start_time": "2023-01-20T12:51:31.179061Z"
    },
    "colab": {
     "base_uri": "https://localhost:8080/"
    },
    "id": "cuJDfkeExP2a",
    "outputId": "5725f465-32d2-444a-eb92-bb392cd64553"
   },
   "outputs": [
    {
     "data": {
      "text/plain": [
       "array([['02', '13', '00', '1a'],\n",
       "       ['11', '0e', '0f', '0f'],\n",
       "       ['18', '06', '07', '11'],\n",
       "       ['0f', '11', '18', '0e']], dtype='<U2')"
      ]
     },
     "execution_count": 90,
     "metadata": {},
     "output_type": "execute_result"
    }
   ],
   "source": [
    "text_matrix(t2h(segments[0]))"
   ]
  },
  {
   "cell_type": "markdown",
   "metadata": {
    "id": "70pN9yLSpLHe"
   },
   "source": [
    "**Galois field multiplication**"
   ]
  },
  {
   "cell_type": "code",
   "execution_count": 112,
   "metadata": {
    "ExecuteTime": {
     "end_time": "2023-01-20T13:29:33.083279Z",
     "start_time": "2023-01-20T13:29:33.063683Z"
    },
    "colab": {
     "base_uri": "https://localhost:8080/"
    },
    "id": "jAzBw8ED9AfH",
    "outputId": "5fb597bc-d05b-4807-8ee6-c9f2d1e0cbb6"
   },
   "outputs": [
    {
     "name": "stdout",
     "output_type": "stream",
     "text": [
      "38\n",
      "59\n",
      "0f\n",
      "b3\n"
     ]
    }
   ],
   "source": [
    "print(product_galois_field('0e','04'))\n",
    "print(product_galois_field('55','aa'))\n",
    "print(product_galois_field('af','08'))\n",
    "print(product_galois_field('02','d4'))"
   ]
  },
  {
   "cell_type": "markdown",
   "metadata": {
    "id": "L9IA_plUGL7K"
   },
   "source": [
    "**XOR**"
   ]
  },
  {
   "cell_type": "code",
   "execution_count": 92,
   "metadata": {
    "ExecuteTime": {
     "end_time": "2023-01-20T12:51:31.330180Z",
     "start_time": "2023-01-20T12:51:31.317215Z"
    },
    "colab": {
     "base_uri": "https://localhost:8080/"
    },
    "id": "5JQOscCvqsCs",
    "outputId": "2d908795-0496-41f5-c449-0a239e6d64a4"
   },
   "outputs": [
    {
     "name": "stdout",
     "output_type": "stream",
     "text": [
      "text\n",
      "[['02' '13' '00' '1a']\n",
      " ['11' '0e' '0f' '0f']\n",
      " ['18' '06' '07' '11']\n",
      " ['0f' '11' '18' '0e']]\n",
      "-------------------------\n",
      "key\n",
      "[['09' '1a' '0c' '1a']\n",
      " ['04' '04' '0f' '0e']\n",
      " ['02' '17' '0b' '0d']\n",
      " ['13' '00' '04' '04']]\n",
      "-------------------------\n",
      "XOR text and key\n",
      "[['0b' '09' '0c' '00']\n",
      " ['15' '0a' '00' '01']\n",
      " ['1a' '11' '0c' '1c']\n",
      " ['1c' '11' '1c' '0a']]\n"
     ]
    }
   ],
   "source": [
    "text = text_matrix(t2h(segments[0]))\n",
    "print(f'text\\n{text}')\n",
    "print('-'*25)\n",
    "key = text_matrix(t2h(segments[1]))\n",
    "print(f'key\\n{key}')\n",
    "print('-'*25)\n",
    "text = add_round_key(text,key)\n",
    "print(f'XOR text and key\\n{text}')"
   ]
  },
  {
   "cell_type": "markdown",
   "metadata": {
    "id": "jjv7AGlspsMv"
   },
   "source": [
    "**subbyte transform**"
   ]
  },
  {
   "cell_type": "code",
   "execution_count": 93,
   "metadata": {
    "ExecuteTime": {
     "end_time": "2023-01-20T12:51:31.378050Z",
     "start_time": "2023-01-20T12:51:31.363091Z"
    },
    "colab": {
     "base_uri": "https://localhost:8080/"
    },
    "id": "v8p0SjO3qxlj",
    "outputId": "bd8c92b3-97ca-455e-cf45-903449e292db"
   },
   "outputs": [
    {
     "name": "stdout",
     "output_type": "stream",
     "text": [
      "[['0b' '09' '0c' '00']\n",
      " ['15' '0a' '00' '01']\n",
      " ['1a' '11' '0c' '1c']\n",
      " ['1c' '11' '1c' '0a']]\n",
      "-------------------------\n",
      "[['2b' '01' 'fe' '63']\n",
      " ['59' '67' '63' '7c']\n",
      " ['a2' '82' 'fe' '9c']\n",
      " ['9c' '82' '9c' '67']]\n"
     ]
    }
   ],
   "source": [
    "print(text)\n",
    "print('-'*25)\n",
    "text = sub_byte_transform(text)\n",
    "print(text)"
   ]
  },
  {
   "cell_type": "markdown",
   "metadata": {
    "id": "avUQ4ZE1pwcW"
   },
   "source": [
    "**shift rows**"
   ]
  },
  {
   "cell_type": "code",
   "execution_count": 94,
   "metadata": {
    "ExecuteTime": {
     "end_time": "2023-01-20T12:51:31.408970Z",
     "start_time": "2023-01-20T12:51:31.397998Z"
    },
    "colab": {
     "base_uri": "https://localhost:8080/"
    },
    "id": "2felLHpT7faW",
    "outputId": "8ee96d75-03ed-487b-d17b-861ba3d85f9c"
   },
   "outputs": [
    {
     "name": "stdout",
     "output_type": "stream",
     "text": [
      "[['2b' '01' 'fe' '63']\n",
      " ['59' '67' '63' '7c']\n",
      " ['a2' '82' 'fe' '9c']\n",
      " ['9c' '82' '9c' '67']]\n",
      "-------------------------\n",
      "[['2b' '01' 'fe' '63']\n",
      " ['67' '63' '7c' '59']\n",
      " ['fe' '9c' 'a2' '82']\n",
      " ['67' '9c' '82' '9c']]\n"
     ]
    }
   ],
   "source": [
    "print(text)\n",
    "print('-'*25)\n",
    "text = shift_rows(text)\n",
    "print(text)"
   ]
  },
  {
   "cell_type": "markdown",
   "metadata": {
    "id": "wuUOWtwJD2e9"
   },
   "source": [
    "**mix columns**"
   ]
  },
  {
   "cell_type": "code",
   "execution_count": 113,
   "metadata": {
    "ExecuteTime": {
     "end_time": "2023-01-20T13:46:55.198436Z",
     "start_time": "2023-01-20T13:46:55.179484Z"
    },
    "colab": {
     "base_uri": "https://localhost:8080/"
    },
    "id": "oUQoUpYiDFPn",
    "outputId": "c30524c5-cc5b-40b8-b6bf-d4c22818f732"
   },
   "outputs": [
    {
     "name": "stdout",
     "output_type": "stream",
     "text": [
      "[['d4' 'e0' 'b8' '1e']\n",
      " ['bf' 'b4' '41' '27']\n",
      " ['5d' '52' '11' '98']\n",
      " ['30' 'ae' 'f1' 'e5']]\n",
      "-------------------------\n",
      "[['04' 'e0' '48' '28']\n",
      " ['66' 'cb' 'f8' '06']\n",
      " ['81' '19' 'd3' '26']\n",
      " ['e5' '9a' '7a' '4c']]\n"
     ]
    }
   ],
   "source": [
    "sample = 'd4e0b81ebfb441275d52119830aef1e5'\n",
    "sample = np.reshape(np.array([sample[i:i+2] for i in range(0,len(sample),2)]),(4,4))\n",
    "print(sample)\n",
    "print('-'*25)\n",
    "sample = mixed_columns(sample)\n",
    "print(sample)"
   ]
  },
  {
   "cell_type": "markdown",
   "metadata": {
    "id": "ZpeziiGtp2t7"
   },
   "source": [
    "**key expansion**"
   ]
  },
  {
   "cell_type": "code",
   "execution_count": 96,
   "metadata": {
    "ExecuteTime": {
     "end_time": "2023-01-20T12:51:31.535229Z",
     "start_time": "2023-01-20T12:51:31.516272Z"
    },
    "colab": {
     "base_uri": "https://localhost:8080/"
    },
    "id": "5AcMTLtzMKJf",
    "outputId": "4e2f58ed-3571-4908-c4f2-009a8c8f22b4"
   },
   "outputs": [
    {
     "name": "stdout",
     "output_type": "stream",
     "text": [
      "key(0) = 2b7e151628aed2a6abf7158809cf4f3c\n",
      "key(1) = a0fafe1788542cb123a339392a6c7605\n",
      "key(2) = f2c295f27a96b9435935807a7359f67f\n",
      "key(3) = 3d80477d4716fe3e1e237e446d7a883b\n",
      "key(4) = ef44a541a8525b7fb671253bdb0bad00\n",
      "key(5) = d4d1c6f87c839d87caf2b8bc11f915bc\n",
      "key(6) = 6d88a37a110b3efddbf98641ca0093fd\n",
      "key(7) = 4e54f70e5f5fc9f384a64fb24ea6dc4f\n",
      "key(8) = ead27321b58dbad2312bf5607f8d292f\n",
      "key(9) = ac7766f319fadc2128d12941575c006e\n",
      "key(10) = d014f9a8c9ee2589e13f0cc8b6630ca6\n"
     ]
    }
   ],
   "source": [
    "ori_key = '2b7e151628aed2a6abf7158809cf4f3c'\n",
    "keys = key_expansion(ori_key)\n",
    "# print(*keys)\n",
    "for i,k in enumerate(keys):\n",
    "    print(f'key({i}) = {columnwise(k)}')"
   ]
  },
  {
   "cell_type": "markdown",
   "metadata": {
    "id": "FVuHkgqVKads"
   },
   "source": [
    "# **RUN AES**"
   ]
  },
  {
   "cell_type": "markdown",
   "metadata": {
    "id": "M89U0uVdLWmu"
   },
   "source": [
    "**encryption**"
   ]
  },
  {
   "cell_type": "code",
   "execution_count": 114,
   "metadata": {
    "ExecuteTime": {
     "end_time": "2023-01-20T13:49:41.890775Z",
     "start_time": "2023-01-20T13:49:41.837419Z"
    },
    "colab": {
     "base_uri": "https://localhost:8080/"
    },
    "id": "4HlbDql4ZQ0L",
    "outputId": "9dda7e13-f3b7-4db7-dfe3-ee9cca4fa608"
   },
   "outputs": [
    {
     "name": "stdout",
     "output_type": "stream",
     "text": [
      "cryptography#pro\n",
      "cifer text = ĳÃ²çfÌó}ĆĉŁ´ăŃŎ\n",
      "cifer text in hex = d2625186056b921ca5a8e053a2e22ced\n"
     ]
    }
   ],
   "source": [
    "print(segments[0])\n",
    "cipher_text = encryption(segments[0],original_key)\n",
    "cipher_text = columnwise(cipher_text)\n",
    "# print(cipher_text)\n",
    "print(f'cifer text = {h2t(cipher_text)}')\n",
    "print(f'cifer text in hex = {cipher_text}')"
   ]
  },
  {
   "cell_type": "markdown",
   "metadata": {
    "id": "a4Yj7IcjLY1m"
   },
   "source": [
    "**calculate hamming distance between the plain text and cipher text to understand how many bits were changed!**"
   ]
  },
  {
   "cell_type": "code",
   "execution_count": 98,
   "metadata": {
    "ExecuteTime": {
     "end_time": "2023-01-20T12:51:31.673733Z",
     "start_time": "2023-01-20T12:51:31.665234Z"
    },
    "colab": {
     "base_uri": "https://localhost:8080/"
    },
    "id": "OJKo9KmpZvsD",
    "outputId": "cf62fc68-8f2d-48e4-e1c8-0eeec41e6a18"
   },
   "outputs": [
    {
     "name": "stdout",
     "output_type": "stream",
     "text": [
      "00000010000100010001100000001111000100110000111000000110000100010000000000001111000001110001100000011010000011110001000100001110\n",
      "11010010011000100101000110000110000001010110101110010010000111001010010110101000111000000101001110100010111000100010110011101101\n",
      "66\n"
     ]
    }
   ],
   "source": [
    "print(h2b(t2h(segments[0])))\n",
    "print(h2b(cipher_text))\n",
    "print(hamming_distance(h2b(t2h(segments[0])),h2b(cipher_text)))"
   ]
  }
 ],
 "metadata": {
  "colab": {
   "provenance": []
  },
  "kernelspec": {
   "display_name": "Python 3 (ipykernel)",
   "language": "python",
   "name": "python3"
  },
  "language_info": {
   "codemirror_mode": {
    "name": "ipython",
    "version": 3
   },
   "file_extension": ".py",
   "mimetype": "text/x-python",
   "name": "python",
   "nbconvert_exporter": "python",
   "pygments_lexer": "ipython3",
   "version": "3.8.5"
  },
  "toc": {
   "base_numbering": 1,
   "nav_menu": {},
   "number_sections": true,
   "sideBar": true,
   "skip_h1_title": false,
   "title_cell": "Table of Contents",
   "title_sidebar": "Contents",
   "toc_cell": false,
   "toc_position": {},
   "toc_section_display": true,
   "toc_window_display": false
  },
  "varInspector": {
   "cols": {
    "lenName": 16,
    "lenType": 16,
    "lenVar": 40
   },
   "kernels_config": {
    "python": {
     "delete_cmd_postfix": "",
     "delete_cmd_prefix": "del ",
     "library": "var_list.py",
     "varRefreshCmd": "print(var_dic_list())"
    },
    "r": {
     "delete_cmd_postfix": ") ",
     "delete_cmd_prefix": "rm(",
     "library": "var_list.r",
     "varRefreshCmd": "cat(var_dic_list()) "
    }
   },
   "types_to_exclude": [
    "module",
    "function",
    "builtin_function_or_method",
    "instance",
    "_Feature"
   ],
   "window_display": false
  }
 },
 "nbformat": 4,
 "nbformat_minor": 1
}
