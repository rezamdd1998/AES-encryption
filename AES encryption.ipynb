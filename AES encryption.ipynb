{
 "cells": [
  {
   "cell_type": "markdown",
   "metadata": {
    "id": "g7D2iXZbnMf9"
   },
   "source": [
    "# **Imports**"
   ]
  },
  {
   "cell_type": "code",
   "execution_count": 1,
   "metadata": {
    "ExecuteTime": {
     "end_time": "2023-01-27T09:22:28.214872Z",
     "start_time": "2023-01-27T09:22:27.851581Z"
    },
    "id": "bo9auPomz70-"
   },
   "outputs": [],
   "source": [
    "from math import log2,ceil\n",
    "import numpy as np"
   ]
  },
  {
   "cell_type": "markdown",
   "metadata": {
    "id": "7VLq2uQTvY_K"
   },
   "source": [
    "# **Some functions**"
   ]
  },
  {
   "cell_type": "markdown",
   "metadata": {
    "id": "S6nedGA7hMA1"
   },
   "source": [
    "**text-to-hex**"
   ]
  },
  {
   "cell_type": "code",
   "execution_count": 2,
   "metadata": {
    "ExecuteTime": {
     "end_time": "2023-01-27T09:22:28.223657Z",
     "start_time": "2023-01-27T09:22:28.217800Z"
    },
    "id": "-TQlsaGzWq7E"
   },
   "outputs": [],
   "source": [
    "def t2h(input):\n",
    "    orders = [ord(char)-ord('a')  if char != '#' else 26 for char in [char for char in input.lower()] ]\n",
    "    return ''.join([f'0{hex(num)[2:]}' if num <= 15 else f'{hex(num)[2:]}' for num in orders])"
   ]
  },
  {
   "cell_type": "markdown",
   "metadata": {
    "id": "AiI2Ea-5hDoo"
   },
   "source": [
    "**hex-to-text**"
   ]
  },
  {
   "cell_type": "code",
   "execution_count": 3,
   "metadata": {
    "ExecuteTime": {
     "end_time": "2023-01-27T09:22:28.241226Z",
     "start_time": "2023-01-27T09:22:28.225611Z"
    },
    "id": "guCmI76ySVFc"
   },
   "outputs": [],
   "source": [
    "def h2t(text):\n",
    "    letters = [text[i]+text[i+1] for i in range(0,len(text),2)]\n",
    "    letters = [int(l,16) for l in letters]\n",
    "    for i,l in enumerate(letters):\n",
    "        letters[i] = chr(ord('a')+l) if l != 26 else '#'\n",
    "    return ''.join(letters)"
   ]
  },
  {
   "cell_type": "markdown",
   "metadata": {
    "id": "O_T6XNNQhcoI"
   },
   "source": [
    "**hex-to-binary**"
   ]
  },
  {
   "cell_type": "code",
   "execution_count": 4,
   "metadata": {
    "ExecuteTime": {
     "end_time": "2023-01-27T09:22:28.256840Z",
     "start_time": "2023-01-27T09:22:28.243195Z"
    },
    "id": "5AwRkS0PZhkl"
   },
   "outputs": [],
   "source": [
    "def h2b(text):\n",
    "    return ''.join(['0'*int(4-ceil(log2(int(ch,16))+0.001))+bin(int(ch,16))[2:] if ch != '0' else '0000' for ch in text])"
   ]
  },
  {
   "cell_type": "markdown",
   "metadata": {
    "id": "TwJcQyWFhlOs"
   },
   "source": [
    "**binary-to-hex**"
   ]
  },
  {
   "cell_type": "code",
   "execution_count": 5,
   "metadata": {
    "ExecuteTime": {
     "end_time": "2023-01-27T09:22:28.275384Z",
     "start_time": "2023-01-27T09:22:28.258795Z"
    },
    "id": "6ft_MH-XWRC6"
   },
   "outputs": [],
   "source": [
    "def b2h(binary):\n",
    "    bits = [binary[i]+binary[i+1]+binary[i+2]+binary[i+3] for i in range(0,len(binary),4)]\n",
    "    return ''.join([f'{hex(int(num,2))[2:]}' for num in bits])"
   ]
  },
  {
   "cell_type": "markdown",
   "metadata": {
    "id": "g_IkTyeQhrj4"
   },
   "source": [
    "**calculating Hamming distance to compare between plain text and cipher text**"
   ]
  },
  {
   "cell_type": "code",
   "execution_count": 6,
   "metadata": {
    "ExecuteTime": {
     "end_time": "2023-01-27T09:22:28.291001Z",
     "start_time": "2023-01-27T09:22:28.277338Z"
    },
    "id": "JCUoGFxh5n9U"
   },
   "outputs": [],
   "source": [
    "def hamming_distance(binary_text1,binary_text2):\n",
    "    return sum([int(a)^int(b) for a,b in zip(binary_text1,binary_text2)])"
   ]
  },
  {
   "cell_type": "markdown",
   "metadata": {
    "id": "1wMpMKLdh7NZ"
   },
   "source": [
    "**indexing the primitive factors for multiplication in Galois field**"
   ]
  },
  {
   "cell_type": "code",
   "execution_count": 7,
   "metadata": {
    "ExecuteTime": {
     "end_time": "2023-01-27T09:22:28.305682Z",
     "start_time": "2023-01-27T09:22:28.294922Z"
    },
    "id": "jrvHZUpC7AOk"
   },
   "outputs": [],
   "source": [
    "def get_indices(hex_text):\n",
    "    return [7-i for i,bit in enumerate(h2b(hex_text)) if int(bit)]"
   ]
  },
  {
   "cell_type": "markdown",
   "metadata": {
    "id": "3SgVusRgi3e5"
   },
   "source": [
    "**convert indices to binary form**"
   ]
  },
  {
   "cell_type": "code",
   "execution_count": 8,
   "metadata": {
    "ExecuteTime": {
     "end_time": "2023-01-27T09:22:28.328092Z",
     "start_time": "2023-01-27T09:22:28.321259Z"
    },
    "id": "Nc1PITAB-QwC"
   },
   "outputs": [],
   "source": [
    "def indices2binary(indices):\n",
    "    return ''.join(['1' if i in indices else '0' for i in range(7,-1,-1)])"
   ]
  },
  {
   "cell_type": "markdown",
   "metadata": {
    "id": "LeJR3EeBjV72"
   },
   "source": [
    "**segment the text into pieces of 128 characters**"
   ]
  },
  {
   "cell_type": "code",
   "execution_count": 9,
   "metadata": {
    "ExecuteTime": {
     "end_time": "2023-01-27T09:22:28.358349Z",
     "start_time": "2023-01-27T09:22:28.351514Z"
    },
    "id": "tLeu9eoQ5Vvw"
   },
   "outputs": [],
   "source": [
    "def text_segmentation(text):\n",
    "    corpus = [text[i:i+16] for i in range(0,len(text),16)]\n",
    "    tail = corpus[-1]\n",
    "    corpus[-1] += '#'*(16-len(corpus[-1]))\n",
    "\n",
    "    print(corpus)\n",
    "    return corpus"
   ]
  },
  {
   "cell_type": "markdown",
   "metadata": {
    "id": "ypWwJNkLvU2v"
   },
   "source": [
    "**matrix structure**"
   ]
  },
  {
   "cell_type": "code",
   "execution_count": 10,
   "metadata": {
    "ExecuteTime": {
     "end_time": "2023-01-27T09:22:28.386687Z",
     "start_time": "2023-01-27T09:22:28.378857Z"
    },
    "id": "pz2-c_mwwA8d"
   },
   "outputs": [],
   "source": [
    "def text_matrix(text):\n",
    "    text = [text[i:i+2] for i in range(0,len(text),2)]\n",
    "    matrix = np.transpose(np.reshape(np.array(text),(4,4)))\n",
    "    return matrix"
   ]
  },
  {
   "cell_type": "markdown",
   "metadata": {
    "id": "D0rzMTu5kYxQ"
   },
   "source": [
    "**XOR of 2 hex number**"
   ]
  },
  {
   "cell_type": "code",
   "execution_count": 11,
   "metadata": {
    "ExecuteTime": {
     "end_time": "2023-01-27T09:22:28.414953Z",
     "start_time": "2023-01-27T09:22:28.409098Z"
    },
    "id": "5sog_PL5_wCO"
   },
   "outputs": [],
   "source": [
    "def xor_hex(first,second):\n",
    "    return b2h(''.join([''.join([str(int(a)^int(b)) for a,b in zip(h2b(f_values),h2b(s_values))]) for f_values,s_values in zip(first,second)]))"
   ]
  },
  {
   "cell_type": "markdown",
   "metadata": {
    "id": "QscFMfMpke-B"
   },
   "source": [
    "**add round key step**"
   ]
  },
  {
   "cell_type": "code",
   "execution_count": 12,
   "metadata": {
    "ExecuteTime": {
     "end_time": "2023-01-27T09:22:28.445252Z",
     "start_time": "2023-01-27T09:22:28.438379Z"
    },
    "id": "rKwHkf7DnirT"
   },
   "outputs": [],
   "source": [
    "def add_round_key(text,key):\n",
    "    for i in range(4):\n",
    "        for j in range(4):\n",
    "            text[i,j] = xor_hex(text[i,j],key[i,j])\n",
    "    return text"
   ]
  },
  {
   "cell_type": "markdown",
   "metadata": {
    "id": "Vvm6AjWDkrIC"
   },
   "source": [
    "**subbyte transform step**"
   ]
  },
  {
   "cell_type": "code",
   "execution_count": 13,
   "metadata": {
    "ExecuteTime": {
     "end_time": "2023-01-27T09:22:28.473518Z",
     "start_time": "2023-01-27T09:22:28.466686Z"
    },
    "id": "WmVrp8jay-fJ"
   },
   "outputs": [],
   "source": [
    "def sub_byte_transform(text):\n",
    "    for i in range(4):\n",
    "        for j in range(4):\n",
    "            row,col = text[i,j]\n",
    "            text[i,j] = s_box[int(row,16),int(col,16)]\n",
    "    return text"
   ]
  },
  {
   "cell_type": "markdown",
   "metadata": {
    "id": "KIykjtXbkwSg"
   },
   "source": [
    "**shift rows step**"
   ]
  },
  {
   "cell_type": "code",
   "execution_count": 14,
   "metadata": {
    "ExecuteTime": {
     "end_time": "2023-01-27T09:22:28.504745Z",
     "start_time": "2023-01-27T09:22:28.498902Z"
    },
    "id": "fj14dfkW4E_5"
   },
   "outputs": [],
   "source": [
    "def shift_rows(text):\n",
    "    text = np.ndarray.tolist(text)\n",
    "    for i in range(4):\n",
    "        for j in range(i):\n",
    "            text[i] += [text[i].pop(0)]\n",
    "    return np.array(text)"
   ]
  },
  {
   "cell_type": "markdown",
   "metadata": {
    "id": "9lQHRT5blRpx"
   },
   "source": [
    "**mixed columns step**"
   ]
  },
  {
   "cell_type": "code",
   "execution_count": 15,
   "metadata": {
    "ExecuteTime": {
     "end_time": "2023-01-27T09:22:28.551593Z",
     "start_time": "2023-01-27T09:22:28.544763Z"
    },
    "id": "90rRkrpu5F5J"
   },
   "outputs": [],
   "source": [
    "def mixed_columns(text):\n",
    "    for j in range(4):\n",
    "        col = text[:,j]\n",
    "        new_col = []\n",
    "        for r in range(4):\n",
    "            row = constant_matrix[r,:]\n",
    "            products = [product_galois_field(col[i],row[i]) for i in range(4)]\n",
    "            result = '00'\n",
    "            for p in products:\n",
    "                result = xor_hex(result,p)\n",
    "            new_col += [result]\n",
    "        text[:,j] = np.array(new_col)\n",
    "    return text"
   ]
  },
  {
   "cell_type": "markdown",
   "metadata": {
    "id": "1DhPTsrGk2hi"
   },
   "source": [
    "**Galois field multiplication for mixed column step**"
   ]
  },
  {
   "cell_type": "code",
   "execution_count": 16,
   "metadata": {
    "ExecuteTime": {
     "end_time": "2023-01-27T09:22:28.630693Z",
     "start_time": "2023-01-27T09:22:28.611132Z"
    },
    "id": "4JP4CHJY5dPu"
   },
   "outputs": [],
   "source": [
    "def product_galois_field(a,b):\n",
    "    a = get_indices(a)\n",
    "    b = get_indices(b)\n",
    "    if len(a) == 0 or len(b) == 0:\n",
    "        return '00'\n",
    "    product_indices = []\n",
    "\n",
    "    for a_index in a:\n",
    "        for b_index in b:\n",
    "            if a_index + b_index in product_indices:\n",
    "                product_indices.remove(a_index + b_index)\n",
    "            else:\n",
    "                product_indices += [a_index + b_index]\n",
    "    product_indices.sort(reverse=True)\n",
    "    coefs = [8,4,3,1,0]\n",
    "    while product_indices[0] >= 8:\n",
    "        greatest = product_indices[0]\n",
    "        index = greatest - 8\n",
    "        for idx in coefs:\n",
    "            if idx + index in product_indices:\n",
    "                product_indices.remove(idx + index)\n",
    "            else:\n",
    "                product_indices += [idx + index]\n",
    "        product_indices.sort(reverse=True)\n",
    "\n",
    "    return b2h(indices2binary(product_indices))"
   ]
  },
  {
   "cell_type": "markdown",
   "metadata": {
    "id": "39WBQhHdlXvd"
   },
   "source": [
    "**Encryption round**"
   ]
  },
  {
   "cell_type": "code",
   "execution_count": 17,
   "metadata": {
    "ExecuteTime": {
     "end_time": "2023-01-27T09:22:28.687267Z",
     "start_time": "2023-01-27T09:22:28.678475Z"
    },
    "id": "75J3awf84Cp0"
   },
   "outputs": [],
   "source": [
    "def encrypt_round(text,key,final=False):\n",
    "    text = sub_byte_transform(text)\n",
    "    text = shift_rows(text)\n",
    "    if not final:\n",
    "        text = mixed_columns(text)\n",
    "    text = add_round_key(text,key)\n",
    "    return text"
   ]
  },
  {
   "cell_type": "markdown",
   "metadata": {
    "id": "V2fHQrprmJdj"
   },
   "source": [
    "**calculating t_i in key expansion**"
   ]
  },
  {
   "cell_type": "code",
   "execution_count": 18,
   "metadata": {
    "ExecuteTime": {
     "end_time": "2023-01-27T09:22:28.862333Z",
     "start_time": "2023-01-27T09:22:28.832511Z"
    },
    "id": "25VFBtpLHVq_"
   },
   "outputs": [],
   "source": [
    "def key_changer(col,round):\n",
    "    col = np.ndarray.tolist(col)\n",
    "    col += [col.pop(0)]\n",
    "    for i,item in enumerate(col):\n",
    "        r,c = item\n",
    "        col[i] = s_box[int(r,16),int(c,16)]\n",
    "    const = [Rconstant[round-1][i:i+2] for i in range(0,len(Rconstant[i-1]),2)]\n",
    "    for i,item in enumerate(col):\n",
    "        col[i] = xor_hex(item,const[i])\n",
    "    return np.array(col)"
   ]
  },
  {
   "cell_type": "markdown",
   "metadata": {
    "id": "QiJBQbHlE-Bl"
   },
   "source": [
    "**return the matrix based on the columns to the output.**"
   ]
  },
  {
   "cell_type": "code",
   "execution_count": 19,
   "metadata": {
    "ExecuteTime": {
     "end_time": "2023-01-27T09:22:29.030501Z",
     "start_time": "2023-01-27T09:22:29.012592Z"
    },
    "id": "lSz46Ef4QW50"
   },
   "outputs": [],
   "source": [
    "def columnwise(matrix):\n",
    "#     matrix = matrix.transpose()\n",
    "#     matrix = np.reshape(matrix.T,16)\n",
    "    matrix = np.ndarray.tolist(np.reshape(matrix.T,16))\n",
    "    return ''.join(matrix)"
   ]
  },
  {
   "cell_type": "markdown",
   "metadata": {
    "id": "nOQFxrPSiDy9"
   },
   "source": [
    "**key expansion**"
   ]
  },
  {
   "cell_type": "code",
   "execution_count": 20,
   "metadata": {
    "ExecuteTime": {
     "end_time": "2023-01-27T09:22:29.197202Z",
     "start_time": "2023-01-27T09:22:29.178659Z"
    },
    "id": "qvCneEhrGHH1"
   },
   "outputs": [],
   "source": [
    "def key_expansion(key):\n",
    "    subkeys = []\n",
    "    key = text_matrix(key)\n",
    "    subkeys += [key.copy()]\n",
    "    \n",
    "    for round in range(1,11):\n",
    "        last_col = key[:,3]\n",
    "        last_col = key_changer(last_col,round)\n",
    "        for i in range(4):\n",
    "            key[i,0] = xor_hex(last_col[i],key[i,0])\n",
    "        for j in range(1,4):\n",
    "            for i in range(4):\n",
    "                key[i,j] = xor_hex(key[i,j],key[i,j-1])\n",
    "        subkeys += [key.copy()]\n",
    "\n",
    "    return subkeys"
   ]
  },
  {
   "cell_type": "markdown",
   "metadata": {
    "id": "vC6B09TOlmtg"
   },
   "source": [
    "**Encryption**"
   ]
  },
  {
   "cell_type": "code",
   "execution_count": 21,
   "metadata": {
    "ExecuteTime": {
     "end_time": "2023-01-27T09:22:29.247984Z",
     "start_time": "2023-01-27T09:22:29.241161Z"
    },
    "id": "eabgR5z_MptU"
   },
   "outputs": [],
   "source": [
    "def encryption(text,key):\n",
    "    text = text_matrix(t2h(text))\n",
    "    keys = key_expansion(t2h(key))\n",
    "    text = add_round_key(text,keys[0])\n",
    "    for i in range(1,11):\n",
    "        if i == 10:\n",
    "            text = encrypt_round(text,keys[i],final=True)\n",
    "        else:\n",
    "            text = encrypt_round(text,keys[i])\n",
    "    return text"
   ]
  },
  {
   "cell_type": "markdown",
   "metadata": {
    "id": "Jxl8Jc9hm4u5"
   },
   "source": [
    "# **Define constants**"
   ]
  },
  {
   "cell_type": "code",
   "execution_count": 22,
   "metadata": {
    "ExecuteTime": {
     "end_time": "2023-01-27T09:22:29.278204Z",
     "start_time": "2023-01-27T09:22:29.272348Z"
    },
    "id": "EeoQ0YXanHZr"
   },
   "outputs": [],
   "source": [
    "plain_text = 'cryptography#implementation#example#one#reza'\n",
    "original_key = 'this#is#the#key#'"
   ]
  },
  {
   "cell_type": "code",
   "execution_count": 23,
   "metadata": {
    "ExecuteTime": {
     "end_time": "2023-01-27T09:22:29.294794Z",
     "start_time": "2023-01-27T09:22:29.281132Z"
    },
    "id": "F9WTM_0g23Ag"
   },
   "outputs": [],
   "source": [
    "s_box = '637c777bf26b6fc53001672bfed7ab76ca82c97dfa5947f0add4a2af9ca472c0b7fd9326363ff7cc34a5e5f171d8311504c723c31896059a071280e2eb27b27509832c1a1b6e5aa0523bd6b329e32f8453d100ed20fcb15b6acbbe394a4c58cfd0efaafb434d338545f9027f503c9fa851a3408f929d38f5bcb6da2110fff3d2cd0c13ec5f974417c4a77e3d645d197360814fdc222a908846eeb814de5e0bdbe0323a0a4906245cc2d3ac629195e479e7c8376d8dd54ea96c56f4ea657aae08ba78252e1ca6b4c6e8dd741f4bbd8b8a703eb5664803f60e613557b986c11d9ee1f8981169d98e949b1e87e9ce5528df8ca1890dbfe6426841992d0fb054bb16'\n",
    "s_box = np.reshape(np.array([s_box[i:i+2] for i in range(0,len(s_box),2)]),(16,16))"
   ]
  },
  {
   "cell_type": "code",
   "execution_count": 24,
   "metadata": {
    "ExecuteTime": {
     "end_time": "2023-01-27T09:22:29.313337Z",
     "start_time": "2023-01-27T09:22:29.297738Z"
    },
    "colab": {
     "base_uri": "https://localhost:8080/"
    },
    "id": "tEY1ISGh2vm4",
    "outputId": "e97d1d20-1e1d-479e-ffee-2818e988f439"
   },
   "outputs": [
    {
     "name": "stdout",
     "output_type": "stream",
     "text": [
      "[['02' '03' '01' '01']\n",
      " ['01' '02' '03' '01']\n",
      " ['01' '01' '02' '03']\n",
      " ['03' '01' '01' '02']]\n"
     ]
    }
   ],
   "source": [
    "constant_matrix = '02030101010203010101020303010102'\n",
    "constant_matrix = np.reshape(np.array([constant_matrix[i:i+2] for i in range(0,len(constant_matrix),2)]),(4,4))\n",
    "print(constant_matrix)"
   ]
  },
  {
   "cell_type": "code",
   "execution_count": 25,
   "metadata": {
    "ExecuteTime": {
     "end_time": "2023-01-27T09:22:29.327980Z",
     "start_time": "2023-01-27T09:22:29.315290Z"
    },
    "colab": {
     "base_uri": "https://localhost:8080/"
    },
    "id": "FPJkZyJNIaYY",
    "outputId": "d086b630-9579-4144-ccc6-a94cf92f78e2"
   },
   "outputs": [
    {
     "name": "stdout",
     "output_type": "stream",
     "text": [
      "['01000000' '02000000' '04000000' '08000000' '10000000' '20000000'\n",
      " '40000000' '80000000' '1b000000' '36000000']\n"
     ]
    }
   ],
   "source": [
    "Rconstant = '01000000020000000400000008000000100000002000000040000000800000001b00000036000000'\n",
    "Rconstant = np.array([Rconstant[i:i+8] for i in range(0,len(Rconstant),8)])\n",
    "print(Rconstant)"
   ]
  },
  {
   "cell_type": "markdown",
   "metadata": {
    "id": "kOmmw3g6msYW"
   },
   "source": [
    "# **Some Example from functions that implemented in previous section**"
   ]
  },
  {
   "cell_type": "markdown",
   "metadata": {
    "id": "JDZ7PNHJn4PU"
   },
   "source": [
    "**Primitive indexing**"
   ]
  },
  {
   "cell_type": "code",
   "execution_count": 26,
   "metadata": {
    "ExecuteTime": {
     "end_time": "2023-01-27T09:22:29.366043Z",
     "start_time": "2023-01-27T09:22:29.358235Z"
    },
    "colab": {
     "base_uri": "https://localhost:8080/"
    },
    "id": "ofNey0Na8OUt",
    "outputId": "d2945a0e-2a12-4737-bf08-37d07e11b23c"
   },
   "outputs": [
    {
     "name": "stdout",
     "output_type": "stream",
     "text": [
      "[7, 1, 0]\n",
      "10000011\n"
     ]
    }
   ],
   "source": [
    "pows = get_indices('83')\n",
    "print(pows)\n",
    "print(indices2binary(pows))"
   ]
  },
  {
   "cell_type": "markdown",
   "metadata": {
    "id": "-VRup8LcjGuP"
   },
   "source": [
    "**Hamming distance**"
   ]
  },
  {
   "cell_type": "code",
   "execution_count": 27,
   "metadata": {
    "ExecuteTime": {
     "end_time": "2023-01-27T09:22:29.399240Z",
     "start_time": "2023-01-27T09:22:29.393370Z"
    },
    "colab": {
     "base_uri": "https://localhost:8080/"
    },
    "id": "r018FTVn54iF",
    "outputId": "aaf737bd-1afa-4045-9a33-f1c3f0842be7"
   },
   "outputs": [
    {
     "name": "stdout",
     "output_type": "stream",
     "text": [
      "0001000000010110\n",
      "0000110000010011\n",
      "5\n"
     ]
    }
   ],
   "source": [
    "t1 = h2b(t2h('qw'))\n",
    "t2 = h2b(t2h('mt'))\n",
    "print(t1)\n",
    "print(t2)\n",
    "print(hamming_distance(t1,t2))\n"
   ]
  },
  {
   "cell_type": "markdown",
   "metadata": {
    "id": "ocA_9ejWoqxY"
   },
   "source": [
    "**converting**"
   ]
  },
  {
   "cell_type": "code",
   "execution_count": 28,
   "metadata": {
    "ExecuteTime": {
     "end_time": "2023-01-27T09:22:29.430459Z",
     "start_time": "2023-01-27T09:22:29.425578Z"
    },
    "id": "Hs8tn1L2qxMZ"
   },
   "outputs": [],
   "source": [
    "hex_text = t2h(plain_text)\n",
    "binary_text = h2b(hex_text)"
   ]
  },
  {
   "cell_type": "code",
   "execution_count": 29,
   "metadata": {
    "ExecuteTime": {
     "end_time": "2023-01-27T09:22:29.449002Z",
     "start_time": "2023-01-27T09:22:29.433402Z"
    },
    "colab": {
     "base_uri": "https://localhost:8080/"
    },
    "id": "OJQgKvK9sEKk",
    "outputId": "5d6dc30c-4045-4d47-e368-e0e9b9b97f1d"
   },
   "outputs": [
    {
     "name": "stdout",
     "output_type": "stream",
     "text": [
      "cryptography#implementation#example#one#reza\n",
      "0211180f130e0611000f07181a080c0f0b040c040d130013080e0d1a0417000c0f0b041a0e0d041a11041900\n",
      "0000001000010001000110000000111100010011000011100000011000010001000000000000111100000111000110000001101000001000000011000000111100001011000001000000110000000100000011010001001100000000000100110000100000001110000011010001101000000100000101110000000000001100000011110000101100000100000110100000111000001101000001000001101000010001000001000001100100000000\n",
      "0211180f130e0611000f07181a080c0f0b040c040d130013080e0d1a0417000c0f0b041a0e0d041a11041900\n",
      "cryptography#implementation#example#one#reza\n"
     ]
    }
   ],
   "source": [
    "print(plain_text)\n",
    "print(hex_text)\n",
    "print(binary_text)\n",
    "print(b2h(binary_text))\n",
    "print(h2t(b2h(binary_text)))"
   ]
  },
  {
   "cell_type": "markdown",
   "metadata": {
    "id": "jLdytARSoyQj"
   },
   "source": [
    "**segmentation**"
   ]
  },
  {
   "cell_type": "code",
   "execution_count": 30,
   "metadata": {
    "ExecuteTime": {
     "end_time": "2023-01-27T09:22:29.475373Z",
     "start_time": "2023-01-27T09:22:29.467546Z"
    },
    "colab": {
     "base_uri": "https://localhost:8080/"
    },
    "id": "hxkwngC2nfAd",
    "outputId": "184ca590-3e03-4b8c-a171-aa11288aa932"
   },
   "outputs": [
    {
     "name": "stdout",
     "output_type": "stream",
     "text": [
      "['cryptography#imp', 'lementation#exam', 'ple#one#reza####']\n",
      "128\n",
      "128\n",
      "128\n"
     ]
    }
   ],
   "source": [
    "segments = text_segmentation(plain_text)\n",
    "for s in segments:\n",
    "    print(len(h2b(t2h(s))))"
   ]
  },
  {
   "cell_type": "markdown",
   "metadata": {
    "id": "BYc1RW3Uo1tw"
   },
   "source": [
    "**create main matrix**"
   ]
  },
  {
   "cell_type": "code",
   "execution_count": 31,
   "metadata": {
    "ExecuteTime": {
     "end_time": "2023-01-27T09:22:29.516346Z",
     "start_time": "2023-01-27T09:22:29.502683Z"
    },
    "colab": {
     "base_uri": "https://localhost:8080/"
    },
    "id": "cuJDfkeExP2a",
    "outputId": "5725f465-32d2-444a-eb92-bb392cd64553"
   },
   "outputs": [
    {
     "data": {
      "text/plain": [
       "array([['02', '13', '00', '1a'],\n",
       "       ['11', '0e', '0f', '08'],\n",
       "       ['18', '06', '07', '0c'],\n",
       "       ['0f', '11', '18', '0f']], dtype='<U2')"
      ]
     },
     "execution_count": 31,
     "metadata": {},
     "output_type": "execute_result"
    }
   ],
   "source": [
    "text_matrix(t2h(segments[0]))"
   ]
  },
  {
   "cell_type": "markdown",
   "metadata": {
    "id": "70pN9yLSpLHe"
   },
   "source": [
    "**Galois field multiplication**"
   ]
  },
  {
   "cell_type": "code",
   "execution_count": 32,
   "metadata": {
    "ExecuteTime": {
     "end_time": "2023-01-27T09:22:29.545627Z",
     "start_time": "2023-01-27T09:22:29.537818Z"
    },
    "colab": {
     "base_uri": "https://localhost:8080/"
    },
    "id": "jAzBw8ED9AfH",
    "outputId": "5fb597bc-d05b-4807-8ee6-c9f2d1e0cbb6"
   },
   "outputs": [
    {
     "name": "stdout",
     "output_type": "stream",
     "text": [
      "38\n",
      "59\n",
      "0f\n",
      "b3\n"
     ]
    }
   ],
   "source": [
    "print(product_galois_field('0e','04'))\n",
    "print(product_galois_field('55','aa'))\n",
    "print(product_galois_field('af','08'))\n",
    "print(product_galois_field('02','d4'))"
   ]
  },
  {
   "cell_type": "markdown",
   "metadata": {
    "id": "L9IA_plUGL7K"
   },
   "source": [
    "**XOR**"
   ]
  },
  {
   "cell_type": "code",
   "execution_count": 33,
   "metadata": {
    "ExecuteTime": {
     "end_time": "2023-01-27T09:22:29.583730Z",
     "start_time": "2023-01-27T09:22:29.574907Z"
    },
    "colab": {
     "base_uri": "https://localhost:8080/"
    },
    "id": "5JQOscCvqsCs",
    "outputId": "2d908795-0496-41f5-c449-0a239e6d64a4"
   },
   "outputs": [
    {
     "name": "stdout",
     "output_type": "stream",
     "text": [
      "text\n",
      "[['02' '13' '00' '1a']\n",
      " ['11' '0e' '0f' '08']\n",
      " ['18' '06' '07' '0c']\n",
      " ['0f' '11' '18' '0f']]\n",
      "-------------------------\n",
      "key\n",
      "[['0b' '0d' '08' '04']\n",
      " ['04' '13' '0e' '17']\n",
      " ['0c' '00' '0d' '00']\n",
      " ['04' '13' '1a' '0c']]\n",
      "-------------------------\n",
      "XOR text and key\n",
      "[['09' '1e' '08' '1e']\n",
      " ['15' '1d' '01' '1f']\n",
      " ['14' '06' '0a' '0c']\n",
      " ['0b' '02' '02' '03']]\n"
     ]
    }
   ],
   "source": [
    "text = text_matrix(t2h(segments[0]))\n",
    "print(f'text\\n{text}')\n",
    "print('-'*25)\n",
    "key = text_matrix(t2h(segments[1]))\n",
    "print(f'key\\n{key}')\n",
    "print('-'*25)\n",
    "text = add_round_key(text,key)\n",
    "print(f'XOR text and key\\n{text}')"
   ]
  },
  {
   "cell_type": "markdown",
   "metadata": {
    "id": "jjv7AGlspsMv"
   },
   "source": [
    "**subbyte transform**"
   ]
  },
  {
   "cell_type": "code",
   "execution_count": 34,
   "metadata": {
    "ExecuteTime": {
     "end_time": "2023-01-27T09:22:29.619849Z",
     "start_time": "2023-01-27T09:22:29.613001Z"
    },
    "colab": {
     "base_uri": "https://localhost:8080/"
    },
    "id": "v8p0SjO3qxlj",
    "outputId": "bd8c92b3-97ca-455e-cf45-903449e292db"
   },
   "outputs": [
    {
     "name": "stdout",
     "output_type": "stream",
     "text": [
      "[['09' '1e' '08' '1e']\n",
      " ['15' '1d' '01' '1f']\n",
      " ['14' '06' '0a' '0c']\n",
      " ['0b' '02' '02' '03']]\n",
      "-------------------------\n",
      "[['01' '72' '30' '72']\n",
      " ['59' 'a4' '7c' 'c0']\n",
      " ['fa' '6f' '67' 'fe']\n",
      " ['2b' '77' '77' '7b']]\n"
     ]
    }
   ],
   "source": [
    "print(text)\n",
    "print('-'*25)\n",
    "text = sub_byte_transform(text)\n",
    "print(text)"
   ]
  },
  {
   "cell_type": "markdown",
   "metadata": {
    "id": "avUQ4ZE1pwcW"
   },
   "source": [
    "**shift rows**"
   ]
  },
  {
   "cell_type": "code",
   "execution_count": 35,
   "metadata": {
    "ExecuteTime": {
     "end_time": "2023-01-27T09:22:29.710606Z",
     "start_time": "2023-01-27T09:22:29.698266Z"
    },
    "colab": {
     "base_uri": "https://localhost:8080/"
    },
    "id": "2felLHpT7faW",
    "outputId": "8ee96d75-03ed-487b-d17b-861ba3d85f9c"
   },
   "outputs": [
    {
     "name": "stdout",
     "output_type": "stream",
     "text": [
      "[['01' '72' '30' '72']\n",
      " ['59' 'a4' '7c' 'c0']\n",
      " ['fa' '6f' '67' 'fe']\n",
      " ['2b' '77' '77' '7b']]\n",
      "-------------------------\n",
      "[['01' '72' '30' '72']\n",
      " ['a4' '7c' 'c0' '59']\n",
      " ['67' 'fe' 'fa' '6f']\n",
      " ['7b' '2b' '77' '77']]\n"
     ]
    }
   ],
   "source": [
    "print(text)\n",
    "print('-'*25)\n",
    "text = shift_rows(text)\n",
    "print(text)"
   ]
  },
  {
   "cell_type": "markdown",
   "metadata": {
    "id": "wuUOWtwJD2e9"
   },
   "source": [
    "**mix columns**"
   ]
  },
  {
   "cell_type": "code",
   "execution_count": 36,
   "metadata": {
    "ExecuteTime": {
     "end_time": "2023-01-27T09:22:29.808174Z",
     "start_time": "2023-01-27T09:22:29.786769Z"
    },
    "colab": {
     "base_uri": "https://localhost:8080/"
    },
    "id": "oUQoUpYiDFPn",
    "outputId": "c30524c5-cc5b-40b8-b6bf-d4c22818f732"
   },
   "outputs": [
    {
     "name": "stdout",
     "output_type": "stream",
     "text": [
      "[['d4' 'e0' 'b8' '1e']\n",
      " ['bf' 'b4' '41' '27']\n",
      " ['5d' '52' '11' '98']\n",
      " ['30' 'ae' 'f1' 'e5']]\n",
      "-------------------------\n",
      "[['04' 'e0' '48' '28']\n",
      " ['66' 'cb' 'f8' '06']\n",
      " ['81' '19' 'd3' '26']\n",
      " ['e5' '9a' '7a' '4c']]\n"
     ]
    }
   ],
   "source": [
    "sample = 'd4e0b81ebfb441275d52119830aef1e5'\n",
    "sample = np.reshape(np.array([sample[i:i+2] for i in range(0,len(sample),2)]),(4,4))\n",
    "print(sample)\n",
    "print('-'*25)\n",
    "sample = mixed_columns(sample)\n",
    "print(sample)"
   ]
  },
  {
   "cell_type": "markdown",
   "metadata": {
    "id": "ZpeziiGtp2t7"
   },
   "source": [
    "**key expansion**"
   ]
  },
  {
   "cell_type": "code",
   "execution_count": 37,
   "metadata": {
    "ExecuteTime": {
     "end_time": "2023-01-27T09:22:29.959419Z",
     "start_time": "2023-01-27T09:22:29.931491Z"
    },
    "colab": {
     "base_uri": "https://localhost:8080/"
    },
    "id": "5AcMTLtzMKJf",
    "outputId": "4e2f58ed-3571-4908-c4f2-009a8c8f22b4"
   },
   "outputs": [
    {
     "name": "stdout",
     "output_type": "stream",
     "text": [
      "key(0) = 2b7e151628aed2a6abf7158809cf4f3c\n",
      "key(1) = a0fafe1788542cb123a339392a6c7605\n",
      "key(2) = f2c295f27a96b9435935807a7359f67f\n",
      "key(3) = 3d80477d4716fe3e1e237e446d7a883b\n",
      "key(4) = ef44a541a8525b7fb671253bdb0bad00\n",
      "key(5) = d4d1c6f87c839d87caf2b8bc11f915bc\n",
      "key(6) = 6d88a37a110b3efddbf98641ca0093fd\n",
      "key(7) = 4e54f70e5f5fc9f384a64fb24ea6dc4f\n",
      "key(8) = ead27321b58dbad2312bf5607f8d292f\n",
      "key(9) = ac7766f319fadc2128d12941575c006e\n",
      "key(10) = d014f9a8c9ee2589e13f0cc8b6630ca6\n"
     ]
    }
   ],
   "source": [
    "ori_key = '2b7e151628aed2a6abf7158809cf4f3c'\n",
    "keys = key_expansion(ori_key)\n",
    "# print(*keys)\n",
    "for i,k in enumerate(keys):\n",
    "    print(f'key({i}) = {columnwise(k)}')"
   ]
  },
  {
   "cell_type": "markdown",
   "metadata": {
    "id": "FVuHkgqVKads"
   },
   "source": [
    "# **RUN AES**"
   ]
  },
  {
   "cell_type": "markdown",
   "metadata": {
    "id": "M89U0uVdLWmu"
   },
   "source": [
    "**encryption**"
   ]
  },
  {
   "cell_type": "code",
   "execution_count": 38,
   "metadata": {
    "ExecuteTime": {
     "end_time": "2023-01-27T09:22:30.558883Z",
     "start_time": "2023-01-27T09:22:30.362404Z"
    },
    "colab": {
     "base_uri": "https://localhost:8080/"
    },
    "id": "4HlbDql4ZQ0L",
    "outputId": "9dda7e13-f3b7-4db7-dfe3-ee9cca4fa608"
   },
   "outputs": [
    {
     "name": "stdout",
     "output_type": "stream",
     "text": [
      "================================================== segment (1) ==================================================\n",
      "plain text = cryptography#imp\n",
      "plain text in hex = 0211180f130e0611000f07181a080c0f\n",
      "cifer text = ¾Ķdñ×ĉnċĶÖ¼Ē\n",
      "cifer text in hex = 5dd503399076a80d2caad57527215bb1\n",
      "Hamming distance = 67\n",
      "================================================== segment (2) ==================================================\n",
      "plain text = lementation#exam\n",
      "plain text in hex = 0b040c040d130013080e0d1a0417000c\n",
      "cifer text = ªŏĄÔ|ÁēŉŘämĮ\n",
      "cifer text in hex = 49eea3731b322360b2e81ef7832e0ccd\n",
      "Hamming distance = 64\n",
      "================================================== segment (3) ==================================================\n",
      "plain text = ple#one#reza####\n",
      "plain text in hex = 0f0b041a0e0d041a110419001a1a1a1a\n",
      "cifer text = ÛlÝºÿœśátŖń}ĻĽ\n",
      "cifer text in hex = 7a0b3a7c599ef2fa8013f5e31e1cdadc\n",
      "Hamming distance = 58\n"
     ]
    }
   ],
   "source": [
    "for i,seg in enumerate(segments): \n",
    "    print('='*50,f'segment ({i+1})','='*50)\n",
    "    cipher_text = encryption(seg,original_key)\n",
    "    cipher_text = columnwise(cipher_text)\n",
    "    print(f'plain text = {seg}')\n",
    "    print(f'plain text in hex = {t2h(seg)}')\n",
    "    print(f'cifer text = {h2t(cipher_text)}')\n",
    "    print(f'cifer text in hex = {cipher_text}')\n",
    "    print(f'Hamming distance = {hamming_distance(h2b(t2h(seg)),h2b(cipher_text))}')\n",
    "    "
   ]
  }
 ],
 "metadata": {
  "colab": {
   "provenance": []
  },
  "kernelspec": {
   "display_name": "Python 3 (ipykernel)",
   "language": "python",
   "name": "python3"
  },
  "language_info": {
   "codemirror_mode": {
    "name": "ipython",
    "version": 3
   },
   "file_extension": ".py",
   "mimetype": "text/x-python",
   "name": "python",
   "nbconvert_exporter": "python",
   "pygments_lexer": "ipython3",
   "version": "3.8.5"
  },
  "toc": {
   "base_numbering": 1,
   "nav_menu": {},
   "number_sections": true,
   "sideBar": true,
   "skip_h1_title": false,
   "title_cell": "Table of Contents",
   "title_sidebar": "Contents",
   "toc_cell": false,
   "toc_position": {},
   "toc_section_display": true,
   "toc_window_display": false
  },
  "varInspector": {
   "cols": {
    "lenName": 16,
    "lenType": 16,
    "lenVar": 40
   },
   "kernels_config": {
    "python": {
     "delete_cmd_postfix": "",
     "delete_cmd_prefix": "del ",
     "library": "var_list.py",
     "varRefreshCmd": "print(var_dic_list())"
    },
    "r": {
     "delete_cmd_postfix": ") ",
     "delete_cmd_prefix": "rm(",
     "library": "var_list.r",
     "varRefreshCmd": "cat(var_dic_list()) "
    }
   },
   "types_to_exclude": [
    "module",
    "function",
    "builtin_function_or_method",
    "instance",
    "_Feature"
   ],
   "window_display": false
  }
 },
 "nbformat": 4,
 "nbformat_minor": 1
}
